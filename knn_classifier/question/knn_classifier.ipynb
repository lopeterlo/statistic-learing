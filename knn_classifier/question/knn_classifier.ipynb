{
 "cells": [
  {
   "cell_type": "markdown",
   "metadata": {},
   "source": [
    "# 統計學習初論 (Spring, 2019)\n",
    "\n",
    "\n",
    "\n",
    "# 第一題 [myknn_regressor]\n",
    "(50%) K-nearest-neighbors (KNN) is a power method to construct nonparametric regression models. The goal of this question is to construct your own KNN regressor. To simplify the question, we are going to use the \"brute-force\" method to find nearest neighbors. That is, we are not going to use specialized data structures such as the K-D tree to speed up the process. Given a set of  N  training data points and a pre-defined hyper-parameter k, the prediction for a testing data point  xa  is computed by locating  k  data points in the training data that is cloest to  xa . If the outcome values of the  k  nearest neighbors are  ya={y1,y2,...,yk} , then the prediction is  f(ya) , where  f  is a real-valued function. We are going to consider two possible choices of  f . The first option is f(ya)=1/k∑ki=1yi.  This is referred to as the \"equal-weight\" case. The other option is to compute the mean after removing outliers. We define outliers as the data points that are outside of  [Q1−1.5IQR,Q3+1.5IQR] , where  Q1  and  Q3  are the first and third quantile of  ya , and  IQR=Q3−Q1 . Since quantiles and IQR only make sense when there are enough neighbors, we allow the \"remove_outliers\" only if  k>=10 . If  k<10 , use the \"equal_weight\"  f  even if the user specify the other way.\n",
    "\n",
    "Creat a Python class named myknn_regressor that can do predictions given training data and hyper-parameters. It should take the  k  as the hyper-parameter for the number of neighbors. Moreover, the user can select  f  by passing \"equal_weight\" or \"remove_outliers\" to switch between the two possible cases for  f .\n",
    "\n",
    "The sample usage should be like the following:\n",
    "\n",
    "myknn = myknn_regressor(20, \"remove_outliers\")\n",
    "myknn.fit(X_train, Y_train)\n",
    "ypred = myknn.predict(X_test)\n",
    "The first line initiates an myknn_regressor object with  k=20  and selected \"remove_outliers\" for  f ; the second line train the model and the third line computes prediction.\n",
    "\n",
    "You are only allowed to use numpy in your own myknn_regressor class. You will receive a zero score if you adopted an existing KNN regressor such as those in scikit-learn. The input features and output predictions should be numpy arrays. If there is a tie in selecting neighbors, myknn_regressor should break the tie by choosing the data point that is located closer to the beginning of the training dataset.\n",
    "\n",
    "Dataset\n",
    "We are going to use a subset of the \"Million Songs Dataset\" in this question. The dataset has been pre-processed and the training and testing dataset has been splitted and stored in a dictionary data structure. You can load the data from msd_data1.pickle using pickle.load(). There are four elements in the dictionary: X_train, Y_train, X_test, Y_test. As indicated by their names, these four elements are training and testing data. The outcome variable (i.e.  y ) is the year a song was released, and the features are variables that characterize the sound of a song. The goal is to predict the release year given sound features.\n",
    "\n",
    "Answer the following questions:\n",
    "\n",
    "Q1.1 Create your myknn_regressor.\n",
    "Q1.2 Load data from msd_data1.pickle. You should standardized all feature values so that all features have a zero mean and a unit variance before training a KNN model. Make predictions using  k=20  and \"equal_weight\"  f . List the RMSE and the first 20 predictions in the testing data.\n",
    "Q1.3 Load data from msd_data1.pickle. Standardized all feature values so that all features have a zero mean and unit variance. Make predictions using  k=20  and \"remove_outier\"  f . List the RMSE and the first 20 predictions in the testing data.\n",
    "# 第二題 [Tuning the Hyper-parameter]\n",
    "(50%) We are going to explore the issue of hyper-parameter tuning in this question. We are going to consider three cases in this question. Use the knn regressor from klearn.neighbors.KNeighborsRegressor for the first two cases, and your own myknn_regressor for the third cases.\n",
    "\n",
    "For each case, use the data from msd_data1.pickle to train and test the KNN models. Compute the RMSE on the testing dataset using  k=1,2,3,4,5,10,15,20,25,30,35,40,45,50,55,60,80,100,120,140,160,180,200 . In the first case, all feature values are standardize to have unit variances and zero means. As for the second case, do not apply feature scaling. The third case use standardized feature and adopted myknn_regressor with \"remove_outlier\"  f  to make prediction.\n",
    "\n",
    "For each case, plot a curve that shows the relations between  k  (x-axis) and RMSE (y-axis). If possible, plot the three curves in the same figure so that we can visually inspect their dynamics. Discuss your observations."
   ]
  },
  {
   "cell_type": "markdown",
   "metadata": {},
   "source": [
    "Question 1  [myknn_regressor]\n",
    "==\n",
    "## (a) create my own Knn regressor"
   ]
  },
  {
   "cell_type": "markdown",
   "metadata": {},
   "source": [
    "###  - Initialize for paramters of myknn_regressor class"
   ]
  },
  {
   "cell_type": "code",
   "execution_count": null,
   "metadata": {},
   "outputs": [],
   "source": [
    "class myknn_regressor ():\n",
    "    \n",
    "    def __init__(self, k=20, filters='remove_outliers'):\n",
    "        self.k = k\n",
    "        if k < 10:\n",
    "            self.filters = 'equal_weight'\n",
    "        else:\n",
    "            if filters == 'equal_weight' or filters=='remove_outliers':\n",
    "                self.filters = filters\n",
    "        self.x_train = []\n",
    "        self.y_train = []\n",
    "        self.distri = dict() #distribution\n",
    "        \n",
    "    "
   ]
  },
  {
   "cell_type": "markdown",
   "metadata": {},
   "source": [
    "### - fit the training data from the dataset, and also standardized all features "
   ]
  },
  {
   "cell_type": "code",
   "execution_count": null,
   "metadata": {},
   "outputs": [],
   "source": [
    "    def fit(self, x_train, y_train, if_std =True):\n",
    "        if if_std:\n",
    "            feature = dict()\n",
    "            length = len(x_train)\n",
    "            fea_length = len(x_train[0])\n",
    "    #         print(length fea_length)\n",
    "            for data in x_train:\n",
    "                index = 0 \n",
    "                for detail in data:\n",
    "                    if not feature.get(index):\n",
    "                        feature[index] = []\n",
    "                    feature[index].append(detail)\n",
    "                    index += 1\n",
    "            for key, val in feature.items():\n",
    "                means = np.mean(val)\n",
    "                std = np.std(val, dtype=np.float64)\n",
    "                self.distri[key] = {'mean': means, 'std': std}\n",
    "                result = []\n",
    "                for i in val:\n",
    "                    result.append((i-means)/std)\n",
    "                feature[key] = result\n",
    "            x_std_train = []\n",
    "            for i in range(length):\n",
    "                temp = []\n",
    "                for j in range(fea_length):\n",
    "                    temp.append(feature[j][i])\n",
    "                x_std_train.append(temp)\n",
    "            self.x_train = x_std_train\n",
    "        else:\n",
    "            self.x_train = x_train\n",
    "        self.y_train = y_train\n",
    "\n",
    "    "
   ]
  },
  {
   "cell_type": "markdown",
   "metadata": {},
   "source": [
    "### - predict the testing data, and filter the outsiders according to number of k or user's choice"
   ]
  },
  {
   "cell_type": "code",
   "execution_count": 122,
   "metadata": {},
   "outputs": [],
   "source": [
    "    def predict(self, x_test):\n",
    "        temp = x_test.copy()\n",
    "        for i in range(len(x_test)):\n",
    "            temp[i] = (x_test[i]- self.distri[i]['mean']) / self.distri[i]['std']\n",
    "        record = dict()\n",
    "        for i in range(len(self.x_train)):\n",
    "            record[i] = np.linalg.norm(self.x_train[i] - temp)\n",
    "        result = sorted(record.items(), key=lambda d: d[1])\n",
    "        near_k = result[:self.k]\n",
    "        if self.filters == 'remove_outliers':\n",
    "            val = []\n",
    "            for i in self.get_val(near_k):\n",
    "                val.append(self.y_train[i])\n",
    "            Q1 = np.quantile(val, 0.25)\n",
    "            Q3 = np.quantile(val, 0.75)\n",
    "            IQR = Q3 - Q1 \n",
    "            upper_bound = Q3 + 1.5 * IQR\n",
    "            lower_bound = Q1 - 1.5 * IQR\n",
    "            for i in range(self.k):\n",
    "                if self.y_train[near_k[i][0]] > upper_bound or self.y_train[near_k[i][0]] < lower_bound:\n",
    "                    near_k[i] = None\n",
    "        avg_y = 0\n",
    "        count = 0\n",
    "        for i in range(self.k):\n",
    "            if near_k[i] != None:\n",
    "#                 print(near_k[i][0])\n",
    "                avg_y += self.y_train[near_k[i][0]]\n",
    "                count += 1\n",
    "        return avg_y / count\n",
    "\n",
    "    def get_val(self, record):\n",
    "        ans = []\n",
    "        for i in record:\n",
    "            ans.append(i[1])\n",
    "        return ans"
   ]
  },
  {
   "cell_type": "markdown",
   "metadata": {},
   "source": [
    "## (b) Make predictions using  k=20  and \"equal_weight\"   . List the RMSE and the first 20               predictions in the testing data"
   ]
  },
  {
   "cell_type": "code",
   "execution_count": 112,
   "metadata": {
    "scrolled": true
   },
   "outputs": [],
   "source": [
    "import pickle \n",
    "import numpy as np\n",
    "import math\n",
    "\n",
    "\n",
    "def  main():\n",
    "    with open('msd_data1.pickle', 'rb') as f:\n",
    "        myknn = myknn_regressor(20, 'equal_weight')\n",
    "        data = pickle.load(f)\n",
    "        myknn.fit(data['X_train'], data['Y_train'])\n",
    "        RMSE = float()\n",
    "        num = len(data['X_test'])\n",
    "        for i in range(num):\n",
    "            y_pred = myknn.predict(data['X_test'][i])\n",
    "#             print(data['Y_test'][i], y_pred )\n",
    "            RMSE += ((y_pred - data['Y_test'][i]) **2)\n",
    "        RMSE = RMSE / num\n",
    "        print(\"RMSE :\" ,math.sqrt(RMSE))\n",
    "\n",
    "        \n",
    "if __name__ == '__main__':\n",
    "    main()"
   ]
  },
  {
   "cell_type": "markdown",
   "metadata": {},
   "source": [
    "| Truth year | Predicted year |\n",
    "| --- | --- |\n",
    "|1998.0 |1993.35|\n",
    "|1988.0 |1993.8|\n",
    "|2005.0 |2000.65|\n",
    "|1982.0 |1991.5|\n",
    "|1990.0 |1992.8|\n",
    "|1995.0 |1998.5|\n",
    "|2005.0 |1988.1|\n",
    "|1994.0 |1991.65|\n",
    "|2005.0 |2002.25|\n",
    "|2009.0 |2003.0|\n",
    "|2007.0 |2000.5|\n",
    "|1996.0 |1998.65|\n",
    "|2006.0 |1995.55|\n",
    "|2005.0 |1997.2|\n",
    "|1994.0 |1995.05|\n",
    "|1992.0 |1997.4|\n",
    "|2000.0 |1992.15|\n",
    "|2007.0 |2000.45|\n",
    "|2003.0 |2003.2|\n",
    "|2003.0 |1995.75|\n",
    "\n",
    "\n",
    "RMSE : 10.251264515495954\n",
    " * The RMSE is 10.251264515495954 when  using k=20 and \"equal_weight\" over all testing data and the first 20 predictions are showed above."
   ]
  },
  {
   "cell_type": "markdown",
   "metadata": {},
   "source": [
    "## (c) Make predictions using  k=20  and \"remove_outier\"  f . List the RMSE and the first 20 predictions in the testing data. "
   ]
  },
  {
   "cell_type": "code",
   "execution_count": 114,
   "metadata": {
    "scrolled": false
   },
   "outputs": [
    {
     "name": "stdout",
     "output_type": "stream",
     "text": [
      "RMSE : 10.212572466080363\n"
     ]
    }
   ],
   "source": [
    "import pickle \n",
    "import numpy as np\n",
    "import math\n",
    "\n",
    "\n",
    "def  main():\n",
    "    with open('msd_data1.pickle', 'rb') as f:\n",
    "        myknn = myknn_regressor(20, 'remove_outliers')\n",
    "        data = pickle.load(f)\n",
    "        myknn.fit(data['X_train'], data['Y_train'])\n",
    "        RMSE = float()\n",
    "        num = len(data['X_test'])\n",
    "        for i in range(num):\n",
    "            y_pred = myknn.predict(data['X_test'][i])\n",
    "            RMSE += ((y_pred - data['Y_test'][i]) **2)\n",
    "        RMSE = RMSE / num\n",
    "        print(\"RMSE :\" ,math.sqrt(RMSE))\n",
    "\n",
    "        \n",
    "if __name__ == '__main__':\n",
    "    main()"
   ]
  },
  {
   "cell_type": "markdown",
   "metadata": {},
   "source": [
    "\n",
    "\n",
    "| Truth year | Predicted year |\n",
    "| :- | :---: |\n",
    "|1998.0|1993.35|\n",
    "|1988.0|1993.8|\n",
    "|2005.0|2000.65|\n",
    "|1982.0|1992.7368421052631|\n",
    "|1990.0|1992.8|\n",
    "|1995.0|2000.0|\n",
    "|2005.0|1988.1|\n",
    "|1994.0|1991.65|\n",
    "|2005.0|2002.25|\n",
    "|2009.0|2003.9473684210527|\n",
    "|2007.0|2000.5|\n",
    "|1996.0|2000.9444444444443|\n",
    "|2006.0|1995.55|\n",
    "|2005.0|1997.2|\n",
    "|1994.0|1998.611111111111|\n",
    "|1992.0|1997.4|\n",
    "|2000.0|1992.15|\n",
    "|2007.0|2003.8333333333333|\n",
    "|2003.0|2003.2|\n",
    "|2003.0|1995.75|\n",
    "\n",
    "RMSE : 10.212572466080363\n",
    "    \n",
    "* The RMSE is 10.212572466080363 when  using k=20 and \"remove_outliers\" over all testing data and the first 20 predictions are showed above."
   ]
  },
  {
   "cell_type": "markdown",
   "metadata": {},
   "source": [
    "Conclusion for question one :\n",
    "==\n",
    "With 'remove outliers' method, the RMSE value will decrease from 10.251264515495954 to 10.212572466080363 by ignoring extreme value. Therefore, the 'remove outliers' method has better performance than 'equal weight' when k =20 ."
   ]
  },
  {
   "cell_type": "markdown",
   "metadata": {},
   "source": [
    "Question 2:  Tuning the Hyper-parameter\n",
    "=="
   ]
  },
  {
   "cell_type": "markdown",
   "metadata": {},
   "source": [
    "## (a) Case 1: klearn.neighbors.KNeighborsRegressor, apply feature scaling"
   ]
  },
  {
   "cell_type": "code",
   "execution_count": 123,
   "metadata": {},
   "outputs": [],
   "source": [
    "from sklearn.neighbors import KNeighborsRegressor\n",
    "\n",
    "import pickle \n",
    "import numpy as np\n",
    "import math\n",
    "import matplotlib.pyplot as plt\n",
    "\n",
    "K_NUM = [1,2,3,4,5,10,15,20,25,30,35,40,45,50,55,60,80,100,120,140,160,180,200]\n",
    "\n",
    "def  main():\n",
    "    with open('msd_data1.pickle', 'rb') as f:\n",
    "        data = pickle.load(f)\n",
    "        x_axis = []\n",
    "        y_axis = []\n",
    "        for k in K_NUM:\n",
    "            neigh = KNeighborsRegressor(n_neighbors=k)\n",
    "            std_x_train, distri = fea_std(data['X_train'])\n",
    "            neigh.fit(std_x_train, data['Y_train'])\n",
    "            RMSE = 0\n",
    "            num = len(data['X_test'])\n",
    "            for i in range(num):\n",
    "                temp = data['X_test'][i].copy()\n",
    "                for j in range(len(data['X_test'][i])):\n",
    "                    temp[j] = (data['X_test'][i][j] - distri[j]['mean']) /  distri[j]['std']\n",
    "                y_pred = neigh.predict( [temp] )\n",
    "                RMSE += ((y_pred - data['Y_test'][i]) **2)\n",
    "            RMSE = RMSE / num\n",
    "            print('k = ', k,\"RMSE :\" ,math.sqrt(RMSE))\n",
    "            x_axis.append(k)\n",
    "            y_axis.append(math.sqrt(RMSE))\n",
    "        plt.plot(x_axis, y_axis, 'ro',x_axis, y_axis, 'k')\n",
    "        plt.ylabel('RMSE')\n",
    "        plt.xlabel('k number')\n",
    "        plt.show()\n",
    "        \n",
    "        \n",
    "def fea_std(x_train):\n",
    "    feature = dict()\n",
    "    length = len(x_train)\n",
    "    fea_length = len(x_train[0])\n",
    "#         print(length fea_length)\n",
    "    for data in x_train:\n",
    "        index = 0 \n",
    "        for detail in data:\n",
    "            if not feature.get(index):\n",
    "                feature[index] = []\n",
    "            feature[index].append(detail)\n",
    "            index += 1\n",
    "    distri = dict()\n",
    "    for key, val in feature.items():\n",
    "        means = np.mean(val)\n",
    "        std = np.std(val, dtype=np.float64)\n",
    "        distri[key] = {'mean': means, 'std': std}\n",
    "        result = []\n",
    "        for i in val:\n",
    "            result.append((i-means)/std)\n",
    "        feature[key] = result\n",
    "    x_std_train = []\n",
    "    for i in range(length):\n",
    "        temp = []\n",
    "        for j in range(fea_length):\n",
    "            temp.append(feature[j][i])\n",
    "        x_std_train.append(temp)\n",
    "    return x_std_train, distri\n",
    "\n",
    "\n",
    "if __name__ == '__main__':\n",
    "    main()"
   ]
  },
  {
   "cell_type": "markdown",
   "metadata": {},
   "source": [
    "    k =  1 RMSE : 13.911074724837043\n",
    "    k =  2 RMSE : 12.068170946750795\n",
    "    k =  3 RMSE : 11.389120864846118\n",
    "    k =  4 RMSE : 11.1123354880961\n",
    "    k =  5 RMSE : 10.894692897614583\n",
    "    k =  10 RMSE : 10.425998912973917\n",
    "    k =  15 RMSE : 10.318171959828582\n",
    "    k =  20 RMSE : 10.251264515495954\n",
    "    k =  25 RMSE : 10.237627225094682\n",
    "    k =  30 RMSE : 10.215977156359507\n",
    "    k =  35 RMSE : 10.205243203546752\n",
    "    k =  40 RMSE : 10.204332770527747\n",
    "    k =  45 RMSE : 10.20724317182286\n",
    "    k =  50 RMSE : 10.206033712139769\n",
    "    k =  55 RMSE : 10.20886238444681\n",
    "    k =  60 RMSE : 10.217002627247632\n",
    "    k =  80 RMSE : 10.231954198429065\n",
    "    k =  100 RMSE : 10.24729594738695\n",
    "    k =  120 RMSE : 10.264908458982786\n",
    "    k =  140 RMSE : 10.287098382403649\n",
    "    k =  160 RMSE : 10.317788599090445\n",
    "    k =  180 RMSE : 10.330995620176944\n",
    "    k =  200 RMSE : 10.351940397014145\n",
    "<img src=\"img/case.png\" width = 400; height= 500; />"
   ]
  },
  {
   "cell_type": "markdown",
   "metadata": {},
   "source": [
    "## (b) Case 2: klearn.neighbors.KNeighborsRegressor, not apply feature scaling"
   ]
  },
  {
   "cell_type": "code",
   "execution_count": 52,
   "metadata": {},
   "outputs": [],
   "source": [
    "from sklearn.neighbors import KNeighborsRegressor\n",
    "\n",
    "import pickle \n",
    "import numpy as np\n",
    "import math\n",
    "import matplotlib.pyplot as plt\n",
    "\n",
    "\n",
    "K_NUM = [1,2,3,4,5,10,15,20,25,30,35,40,45,50,55,60,80,100,120,140,160,180,200]\n",
    "\n",
    "def  main():\n",
    "    with open('msd_data1.pickle', 'rb') as f:\n",
    "        data = pickle.load(f)\n",
    "        x_axis = []\n",
    "        y_axis = []\n",
    "        for k in K_NUM:\n",
    "            neigh = KNeighborsRegressor(n_neighbors=k)\n",
    "            neigh.fit(data['X_train'], data['Y_train'])\n",
    "            RMSE = 0\n",
    "            num = len(data['X_test'])\n",
    "            for i in range(num):\n",
    "                y_pred = neigh.predict([data['X_test'][i]])\n",
    "                RMSE += ((y_pred - data['Y_test'][i]) **2)\n",
    "            RMSE = RMSE / num\n",
    "#             print('k = ', k,\"RMSE :\" ,math.sqrt(RMSE))\n",
    "            x_axis.append(k)\n",
    "            y_axis.append(math.sqrt(RMSE))\n",
    "#         plt.plot(x_axis, y_axis, 'ro',x_axis, y_axis, 'k')\n",
    "#         plt.ylabel('RMSE')\n",
    "#         plt.xlabel('k number')\n",
    "#         plt.show()\n",
    "        \n",
    "if __name__ == '__main__':\n",
    "    main()"
   ]
  },
  {
   "cell_type": "markdown",
   "metadata": {},
   "source": [
    "    k =  1 RMSE : 14.923638966418345\n",
    "    k =  2 RMSE : 12.777499755429464\n",
    "    k =  3 RMSE : 12.075674967716077\n",
    "    k =  4 RMSE : 11.767805657810635\n",
    "    k =  5 RMSE : 11.466392632384453\n",
    "    k =  10 RMSE : 11.077460900404935\n",
    "    k =  15 RMSE : 10.88897913794797\n",
    "    k =  20 RMSE : 10.797788546734951\n",
    "    k =  25 RMSE : 10.790073017979692\n",
    "    k =  30 RMSE : 10.750265612567011\n",
    "    k =  35 RMSE : 10.717738719772298\n",
    "    k =  40 RMSE : 10.714437504678774\n",
    "    k =  45 RMSE : 10.698494013475859\n",
    "    k =  50 RMSE : 10.69110105960404\n",
    "    k =  55 RMSE : 10.68260873412441\n",
    "    k =  60 RMSE : 10.672535729098705\n",
    "    k =  80 RMSE : 10.662907517124506\n",
    "    k =  100 RMSE : 10.677019504524656\n",
    "    k =  120 RMSE : 10.68313963899639\n",
    "    k =  140 RMSE : 10.687017556442067\n",
    "    k =  160 RMSE : 10.691630026202139\n",
    "    k =  180 RMSE : 10.69071978380711\n",
    "    k =  200 RMSE : 10.69885337470018\n",
    "<img src=\"img/case2.png\" width = 400; height= 500; />"
   ]
  },
  {
   "cell_type": "markdown",
   "metadata": {},
   "source": [
    "## (c) Case 3: Adopt myknn_regressor with \"remove_outlier\"  f  to make prediction."
   ]
  },
  {
   "cell_type": "code",
   "execution_count": 124,
   "metadata": {},
   "outputs": [],
   "source": [
    "import pickle \n",
    "import numpy as np\n",
    "import math\n",
    "import matplotlib.pyplot as plt\n",
    "\n",
    "K_NUM = [1,2,3,4,5,10,15,20,25,30,35,40,45,50,55,60,80,100,120,140,160,180,200]\n",
    "\n",
    "def  main():\n",
    "    with open('msd_data1.pickle', 'rb') as f:\n",
    "        data = pickle.load(f)\n",
    "        x_axis = []\n",
    "        y_axis = []\n",
    "        for k in K_NUM:\n",
    "            myknn = myknn_regressor(k, 'remove_outliers')\n",
    "            myknn.fit(data['X_train'], data['Y_train'])\n",
    "            RMSE = 0\n",
    "            num = len(data['X_test'])\n",
    "            for i in range(num):\n",
    "                y_pred = myknn.predict(data['X_test'][i])\n",
    "                RMSE += ((y_pred - data['Y_test'][i]) **2)\n",
    "            RMSE = RMSE / num\n",
    "            print('k = ', k,\"RMSE  :\" ,math.sqrt(RMSE ))\n",
    "            x_axis.append(k)\n",
    "            y_axis.append(math.sqrt(RMSE))\n",
    "        plt.plot(x_axis, y_axis, 'ro',x_axis, y_axis, 'k')\n",
    "        plt.ylabel('RMSE')\n",
    "        plt.xlabel('k number')\n",
    "        plt.show()\n",
    "        \n",
    "if __name__ == '__main__':\n",
    "    main()\n",
    "    \n"
   ]
  },
  {
   "cell_type": "markdown",
   "metadata": {},
   "source": [
    "    k =  1 RMSE  : 13.911074724837043\n",
    "    k =  2 RMSE  : 12.068170946750795\n",
    "    k =  3 RMSE  : 11.389120864846118\n",
    "    k =  4 RMSE  : 11.1123354880961\n",
    "    k =  5 RMSE  : 10.894692897614583\n",
    "    k =  10 RMSE  : 10.468549209697095\n",
    "    k =  15 RMSE  : 10.293424167991523\n",
    "    k =  20 RMSE  : 10.212572466080363\n",
    "    k =  25 RMSE  : 10.191475378971322\n",
    "    k =  30 RMSE  : 10.132105705172405\n",
    "    k =  35 RMSE  : 10.109608004792968\n",
    "    k =  40 RMSE  : 10.093231539122925\n",
    "    k =  45 RMSE  : 10.08001889147962\n",
    "    k =  50 RMSE  : 10.080783333249341\n",
    "    k =  55 RMSE  : 10.059767600751961\n",
    "    k =  60 RMSE  : 10.073857809066574\n",
    "    k =  80 RMSE  : 10.063683549276593\n",
    "    k =  100 RMSE  : 10.064917276737452\n",
    "    k =  120 RMSE  : 10.067237203620257\n",
    "    k =  140 RMSE  : 10.090646192390146\n",
    "    k =  160 RMSE  : 10.115316675702935\n",
    "    k =  180 RMSE  : 10.124987056716332\n",
    "    k =  200 RMSE  : 10.146220720227742\n",
    "<img src=\"img/case3.png\" width = 400; height= 500; />"
   ]
  },
  {
   "cell_type": "markdown",
   "metadata": {},
   "source": [
    "## combine three plot:\n"
   ]
  },
  {
   "cell_type": "code",
   "execution_count": 120,
   "metadata": {
    "scrolled": false
   },
   "outputs": [
    {
     "data": {
      "image/png": "[encoded data removed]",
      "text/plain": [
       "<Figure size 720x648 with 1 Axes>"
      ]
     },
     "metadata": {
      "needs_background": "light"
     },
     "output_type": "display_data"
    },
    {
     "name": "stdout",
     "output_type": "stream",
     "text": [
      " * red points for case1, blue points for case2, green points for case3\n"
     ]
    }
   ],
   "source": [
    "K_NUM = [1,2,3,4,5,10,15,20,25,30,35,40,45,50,55,60,80,100,120,140,160,180,200]\n",
    "\n",
    "case1 = [13.911074724837043,12.068170946750795,11.389120864846118,11.1123354880961,10.894692897614583,10.425998912973917,10.318171959828582,10.251264515495954,10.237627225094682,10.215977156359507,10.205243203546752,10.204332770527747,10.20724317182286,10.206033712139769,10.20886238444681,10.217002627247632,10.231954198429065,10.24729594738695,10.264908458982786,10.287098382403649,10.317788599090445,10.330995620176944,10.351940397014145]\n",
    "case2 = [14.923638966418345,12.777499755429464,12.075674967716077,11.767805657810635,11.466392632384453,11.077460900404935,10.88897913794797\n",
    ",10.797788546734951,10.790073017979692,10.750265612567011,10.717738719772298,10.714437504678774,10.698494013475859,10.69110105960404,10.68260873412441,10.672535729098705,10.662907517124506,10.677019504524656,10.68313963899639,10.687017556442067,10.691630026202139,10.69071978380711,10.69885337470018,]\n",
    "case3 = [13.911074724837043,12.068170946750795,11.389120864846118,11.1123354880961,10.894692897614583,10.468549209697095,10.293424167991523,10.212572466080363,10.191475378971322,10.132105705172405,10.109608004792968,10.093231539122925,10.08001889147962,10.080783333249341,10.059767600751961,10.073857809066574,10.063683549276593,10.064917276737452,10.067237203620257,10.090646192390146,10.115316675702935,10.124987056716332,10.146220720227742]\n",
    "x_axis = K_NUM\n",
    "plt.figure(figsize=(10, 9))\n",
    "plt.plot(x_axis, case1, 'ro',x_axis, case2, 'bs', x_axis, case3, 'g^',x_axis, case3, 'k',x_axis, case1, 'k',x_axis, case2, 'k')\n",
    "plt.ylabel('RMSE')\n",
    "plt.xlabel('k number')\n",
    "\n",
    "plt.legend(['klearn.neighbors.KNeighborsRegressor, apply feature scaling','klearn.neighbors.KNeighborsRegressor, not apply feature scaling','Adopt myknn_regressor with \"remove_outlier\" f to make prediction'])\n",
    "plt.show()\n",
    "print(' * red points for case1, blue points for case2, green points for case3')"
   ]
  },
  {
   "cell_type": "markdown",
   "metadata": {},
   "source": [
    "Conclusion for question two :\n",
    "===\n",
    "&emsp;For three methods, RMSE value will decrease while k number increases.On the other hand, with feature scaling, the RMSE value will smaller than without it. And with 'remove outliers' and feature scaling method at the same time, the performance will be the best among these three methods."
   ]
  },
  {
   "cell_type": "markdown",
   "metadata": {},
   "source": [
    "# full code :"
   ]
  },
  {
   "cell_type": "code",
   "execution_count": 109,
   "metadata": {},
   "outputs": [],
   "source": [
    "class myknn_regressor ():\n",
    "    \n",
    "    def __init__(self, k=20, filters='remove_outliers'):\n",
    "        self.k = k\n",
    "        if k < 10:\n",
    "            self.filters = 'equal_weight'\n",
    "        else:\n",
    "            if filters == 'equal_weight' or filters=='remove_outliers':\n",
    "                self.filters = filters\n",
    "        self.x_train = []\n",
    "        self.y_train = []\n",
    "        self.distri = dict() #distribution\n",
    "        \n",
    "    def fit(self, x_train, y_train, if_std =True):\n",
    "        if if_std:\n",
    "            feature = dict()\n",
    "            length = len(x_train)\n",
    "            fea_length = len(x_train[0])\n",
    "    #         print(length fea_length)\n",
    "            for data in x_train:\n",
    "                index = 0 \n",
    "                for detail in data:\n",
    "                    if not feature.get(index):\n",
    "                        feature[index] = []\n",
    "                    feature[index].append(detail)\n",
    "                    index += 1\n",
    "            for key, val in feature.items():\n",
    "                means = np.mean(val)\n",
    "                std = np.std(val, dtype=np.float64)\n",
    "                self.distri[key] = {'mean': means, 'std': std}\n",
    "                result = []\n",
    "                for i in val:\n",
    "                    result.append((i-means)/std)\n",
    "                feature[key] = result\n",
    "            x_std_train = []\n",
    "            for i in range(length):\n",
    "                temp = []\n",
    "                for j in range(fea_length):\n",
    "                    temp.append(feature[j][i])\n",
    "                x_std_train.append(temp)\n",
    "            self.x_train = x_std_train\n",
    "        else:\n",
    "            self.x_train = x_train\n",
    "        self.y_train = y_train\n",
    "\n",
    "    def predict(self, x_test):\n",
    "        temp = x_test.copy()\n",
    "        for i in range(len(x_test)):\n",
    "            temp[i] = (x_test[i]- self.distri[i]['mean']) / self.distri[i]['std']\n",
    "        record = dict()\n",
    "        for i in range(len(self.x_train)):\n",
    "            record[i] = np.linalg.norm(self.x_train[i] - temp)\n",
    "        result = sorted(record.items(), key=lambda d: d[1])\n",
    "        near_k = result[:self.k]\n",
    "        if self.filters == 'remove_outliers':\n",
    "            val = []\n",
    "            for i in self.get_val(near_k):\n",
    "                val.append(self.y_train[i])\n",
    "            Q1 = np.quantile(val, 0.25)\n",
    "            Q3 = np.quantile(val, 0.75)\n",
    "            IQR = Q3 - Q1 \n",
    "            upper_bound = Q3 + 1.5 * IQR\n",
    "            lower_bound = Q1 - 1.5 * IQR\n",
    "            for i in range(self.k):\n",
    "                if self.y_train[near_k[i][0]] > upper_bound or self.y_train[near_k[i][0]] < lower_bound:\n",
    "                    near_k[i] = None\n",
    "\n",
    "\n",
    "        avg_y = 0\n",
    "        count = 0\n",
    "        for i in range(self.k):\n",
    "            if near_k[i] != None:\n",
    "                avg_y += self.y_train[near_k[i][0]]\n",
    "                count += 1\n",
    "#         print(count)\n",
    "        return avg_y / count\n",
    "\n",
    "    def get_val(self, record):\n",
    "        ans = []\n",
    "        for i in record:\n",
    "            ans.append(i[0])\n",
    "        return ans"
   ]
  }
 ],
 "metadata": {
  "kernelspec": {
   "display_name": "Python 3",
   "language": "python",
   "name": "python3"
  },
  "language_info": {
   "codemirror_mode": {
    "name": "ipython",
    "version": 3
   },
   "file_extension": ".py",
   "mimetype": "text/x-python",
   "name": "python",
   "nbconvert_exporter": "python",
   "pygments_lexer": "ipython3",
   "version": "3.7.1"
  }
 },
 "nbformat": 4,
 "nbformat_minor": 2
}
